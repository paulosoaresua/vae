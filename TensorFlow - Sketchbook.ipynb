{
 "cells": [
  {
   "cell_type": "code",
   "execution_count": 8,
   "metadata": {},
   "outputs": [
    {
     "name": "stdout",
     "output_type": "stream",
     "text": [
      "The autoreload extension is already loaded. To reload it, use:\n",
      "  %reload_ext autoreload\n"
     ]
    }
   ],
   "source": [
    "%load_ext autoreload\n",
    "%autoreload 2\n",
    "%config InlineBackend.figure_format = 'retina'\n",
    "import sys\n",
    "sys.path.append('.venv/lib/python3.7/site-packages/')"
   ]
  },
  {
   "cell_type": "code",
   "execution_count": 29,
   "metadata": {},
   "outputs": [],
   "source": [
    "import tensorflow as tf\n",
    "import keras"
   ]
  },
  {
   "cell_type": "markdown",
   "metadata": {},
   "source": [
    "### Gradient"
   ]
  },
  {
   "cell_type": "code",
   "execution_count": 21,
   "metadata": {},
   "outputs": [
    {
     "name": "stdout",
     "output_type": "stream",
     "text": [
      "Numerical Gradient\n",
      "tf.Tensor(\n",
      "[[ 0.79789436  0.7079957 ]\n",
      " [ 0.30566776 -0.71412086]], shape=(2, 2), dtype=float32)\n",
      "\n",
      "Analytical Gradient\n",
      "tf.Tensor(\n",
      "[[ 0.79789436  0.7079957 ]\n",
      " [ 0.30566776 -0.7141209 ]], shape=(2, 2), dtype=float32)\n"
     ]
    }
   ],
   "source": [
    "a = tf.random.normal(shape=(2, 2))\n",
    "b = tf.random.normal(shape=(2, 2))\n",
    "\n",
    "# a = tf.Variable(a) # Making \"a\" a variable \n",
    "\n",
    "with tf.GradientTape() as tape:\n",
    "    tape.watch(a)  # Start recording the history of operations applied to `a`\n",
    "                   # If a was a variable this would not be needed as it would be watched by default\n",
    "    c = tf.sqrt(tf.square(a) + tf.square(b))  # Do some math using `a`\n",
    "    # What's the gradient of `c` with respect to `a`?\n",
    "    dc_da = tape.gradient(c, a)\n",
    "    print('Numerical Gradient')\n",
    "    print(dc_da)\n",
    "\n",
    "print('\\nAnalytical Gradient')    \n",
    "print(a / tf.sqrt(tf.square(a) + tf.square(b))) "
   ]
  },
  {
   "cell_type": "markdown",
   "metadata": {},
   "source": [
    "### Layer"
   ]
  },
  {
   "cell_type": "code",
   "execution_count": 30,
   "metadata": {},
   "outputs": [],
   "source": [
    "class Linear(keras.layers.Layer):\n",
    "    \"\"\"y = w.x + b\"\"\"\n",
    "\n",
    "    def __init__(self, units=32):\n",
    "        super(Linear, self).__init__()\n",
    "        self.units = units\n",
    "\n",
    "    def build(self, input_shape):\n",
    "        self.w = self.add_weight(\n",
    "            shape=(input_shape[-1], self.units),\n",
    "            initializer=\"random_normal\",\n",
    "            trainable=True,\n",
    "        )\n",
    "        self.b = self.add_weight(\n",
    "            shape=(self.units,), initializer=\"random_normal\", trainable=True\n",
    "        )\n",
    "\n",
    "    def call(self, inputs):\n",
    "        return tf.matmul(inputs, self.w) + self.b"
   ]
  },
  {
   "cell_type": "code",
   "execution_count": 47,
   "metadata": {},
   "outputs": [
    {
     "name": "stdout",
     "output_type": "stream",
     "text": [
      "Epoch: 0 Step: 0\n",
      "Total running accuracy so far: 0.125\n",
      "Epoch: 0 Step: 200\n",
      "Total running accuracy so far: 0.769\n",
      "Epoch: 0 Step: 400\n",
      "Total running accuracy so far: 0.821\n",
      "Epoch: 0 Step: 600\n",
      "Total running accuracy so far: 0.843\n",
      "Epoch: 0 Step: 800\n",
      "Total running accuracy so far: 0.855\n",
      "Epoch: 1 Step: 0\n",
      "Total running accuracy so far: 0.863\n",
      "Epoch: 1 Step: 200\n",
      "Total running accuracy so far: 0.871\n",
      "Epoch: 1 Step: 400\n",
      "Total running accuracy so far: 0.876\n",
      "Epoch: 1 Step: 600\n",
      "Total running accuracy so far: 0.880\n",
      "Epoch: 1 Step: 800\n",
      "Total running accuracy so far: 0.884\n"
     ]
    }
   ],
   "source": [
    "(x_train, y_train), _ = tf.keras.datasets.mnist.load_data()\n",
    "dataset = tf.data.Dataset.from_tensor_slices(\n",
    "    (x_train.reshape(60000, 784).astype(\"float32\") / 255, y_train)\n",
    ")\n",
    "dataset = dataset.shuffle(buffer_size=1024).batch(64)\n",
    "\n",
    "# Instantiate our linear layer (defined above) with 10 units.\n",
    "linear_layer = Linear(10)\n",
    "\n",
    "# Instantiate a logistic loss function that expects integer targets.\n",
    "loss_fn = tf.keras.losses.SparseCategoricalCrossentropy(from_logits=True)\n",
    "\n",
    "# Instantiate an optimizer.\n",
    "optimizer = tf.keras.optimizers.Adam(learning_rate=1e-3)\n",
    "\n",
    "# Instantiate a metric object\n",
    "accuracy = tf.keras.metrics.SparseCategoricalAccuracy()\n",
    "\n",
    "# Iterate over the batches of the dataset.\n",
    "for epoch in range(2):\n",
    "    for step, (x, y) in enumerate(dataset):\n",
    "\n",
    "        # Open a GradientTape.\n",
    "        with tf.GradientTape() as tape:\n",
    "\n",
    "            # Forward pass.\n",
    "            logits = linear_layer(x)\n",
    "\n",
    "            # Loss value for this batch.\n",
    "            loss = loss_fn(y, logits)\n",
    "\n",
    "            # Update the state of the `accuracy` metric.\n",
    "            accuracy.update_state(y, logits)\n",
    "\n",
    "            # Get gradients of the loss wrt the weights.\n",
    "            gradients = tape.gradient(loss, linear_layer.trainable_weights)\n",
    "\n",
    "            # Update the weights of our linear layer.\n",
    "            optimizer.apply_gradients(zip(gradients, linear_layer.trainable_weights))\n",
    "\n",
    "            # Logging.\n",
    "            if step % 200 == 0:\n",
    "                print(\"Epoch:\", epoch, \"Step:\", step)\n",
    "                print(\"Total running accuracy so far: %.3f\" % accuracy.result())"
   ]
  }
 ],
 "metadata": {
  "kernelspec": {
   "display_name": "Python 3",
   "language": "python",
   "name": "python3"
  },
  "language_info": {
   "codemirror_mode": {
    "name": "ipython",
    "version": 3
   },
   "file_extension": ".py",
   "mimetype": "text/x-python",
   "name": "python",
   "nbconvert_exporter": "python",
   "pygments_lexer": "ipython3",
   "version": "3.7.3"
  }
 },
 "nbformat": 4,
 "nbformat_minor": 4
}
